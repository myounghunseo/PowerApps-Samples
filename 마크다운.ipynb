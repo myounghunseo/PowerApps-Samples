{
  "nbformat": 4,
  "nbformat_minor": 0,
  "metadata": {
    "colab": {
      "name": "마크다운.ipynb",
      "provenance": [],
      "authorship_tag": "ABX9TyOakBrXONqYajLKfwBHOyv8",
      "include_colab_link": true
    },
    "kernelspec": {
      "name": "ir",
      "display_name": "R"
    }
  },
  "cells": [
    {
      "cell_type": "markdown",
      "metadata": {
        "id": "view-in-github",
        "colab_type": "text"
      },
      "source": [
        "<a href=\"https://colab.research.google.com/github/myounghunseo/PowerApps-Samples/blob/master/%EB%A7%88%ED%81%AC%EB%8B%A4%EC%9A%B4.ipynb\" target=\"_parent\"><img src=\"https://colab.research.google.com/assets/colab-badge.svg\" alt=\"Open In Colab\"/></a>"
      ]
    },
    {
      "cell_type": "code",
      "metadata": {
        "id": "fqg807xyG6kJ",
        "colab_type": "code",
        "colab": {}
      },
      "source": [
        ""
      ],
      "execution_count": null,
      "outputs": []
    },
    {
      "cell_type": "code",
      "metadata": {
        "id": "Znlk3av-G9-h",
        "colab_type": "code",
        "colab": {}
      },
      "source": [
        ""
      ],
      "execution_count": null,
      "outputs": []
    },
    {
      "cell_type": "code",
      "metadata": {
        "id": "NYW9BWhAG-nv",
        "colab_type": "code",
        "colab": {}
      },
      "source": [
        ""
      ],
      "execution_count": null,
      "outputs": []
    },
    {
      "cell_type": "markdown",
      "metadata": {
        "id": "ojFdjMbeG-yY",
        "colab_type": "text"
      },
      "source": [
        "#### 마크다운 제목 작성 : #\n",
        "# 제목1\n",
        "## 제목2\n",
        "### 제목3"
      ]
    },
    {
      "cell_type": "markdown",
      "metadata": {
        "id": "fqtMKNcy_kbx",
        "colab_type": "text"
      },
      "source": [
        "# 줄바꿈 : 스페이스바 2번 입력 후 enter 또는 <br> 태그 사용\n",
        "\n",
        "마크다운  \n",
        "마크다운  \n",
        "\n",
        "마크다운<br>\n",
        "마크다운"
      ]
    },
    {
      "cell_type": "markdown",
      "metadata": {
        "id": "pjCKI5PzH95E",
        "colab_type": "text"
      },
      "source": [
        "# 글자 꾸미기 : 진하게(별표)\n",
        "**진하게 보기**  \n",
        "*강조하기*  \n",
        "~취소선~"
      ]
    },
    {
      "cell_type": "markdown",
      "metadata": {
        "id": "90OvB_NkIqAe",
        "colab_type": "text"
      },
      "source": [
        "# 구분선 : 하이픈 여러개\n",
        "----"
      ]
    },
    {
      "cell_type": "markdown",
      "metadata": {
        "id": "vpQgBBfsJKj3",
        "colab_type": "text"
      },
      "source": [
        "# 인용구 : 크다 부등호\n",
        "\n",
        "> 시간은 금이다"
      ]
    },
    {
      "cell_type": "markdown",
      "metadata": {
        "id": "VRuhT8YeJe3N",
        "colab_type": "text"
      },
      "source": [
        "순서있는 목록 : 숫자기호\n",
        "* 좋아하는 게임들\n",
        "1. 대아블로\n",
        "2. 스타크래프트\n"
      ]
    },
    {
      "cell_type": "markdown",
      "metadata": {
        "id": "8JyVTePUJu63",
        "colab_type": "text"
      },
      "source": [
        "순서없는 목록 : 각종기호, 들여쓰기\n",
        "* 좋아하는 게임들\n",
        "  + 디아블로\n",
        "* 대아블로\n",
        "* 스타크래프트\n",
        "* 소니"
      ]
    },
    {
      "cell_type": "markdown",
      "metadata": {
        "id": "g-ZDoFwkKGFx",
        "colab_type": "text"
      },
      "source": [
        "# 링크 : 대괄호로 링크 제목, 괄호로 링크 주소\n",
        "[네이버](http://naver.com)  \n",
        "[구글](http://google.com) "
      ]
    },
    {
      "cell_type": "markdown",
      "metadata": {
        "id": "-GlmeswBK4wZ",
        "colab_type": "text"
      },
      "source": [
        "# 이미지: 느낌표와 괄호\n",
        "![](https://www.google.com/imgres?imgurl=https%3A%2F%2Fimg1.daumcdn.net%2Fthumb%2FR720x0%2F%3Ffname%3Dhttps%3A%2F%2Ft1.daumcdn.net%2Fnews%2F201904%2F19%2Fmoneytoday%2F20190419141606693hahz.jpg&imgrefurl=https%3A%2F%2F1boon.kakao.com%2Fmaxim%2F2696&tbnid=YAJ6_P1ttylRuM&vet=12ahUKEwiat9jD3PHrAhXGEKYKHUn_AFQQMygCegUIARDPAQ..i&docid=zhmYAvcoFTi1CM&w=720&h=512&q=%EC%88%98%EC%A7%80&ved=2ahUKEwiat9jD3PHrAhXGEKYKHUn_AFQQMygCegUIARDPAQ)"
      ]
    },
    {
      "cell_type": "markdown",
      "metadata": {
        "id": "8C3rJT6-LXCP",
        "colab_type": "text"
      },
      "source": [
        "# 표 작성\n",
        "\n",
        "|이름|국어|영어|수학|\n",
        "|----|----|----|----|\n",
        "|수지|98|78|23|\n",
        "|지현|98|78|23|\n",
        "|혜교|98|78|23|\n",
        "\n"
      ]
    },
    {
      "cell_type": "markdown",
      "metadata": {
        "id": "egaZyiWxMaUw",
        "colab_type": "text"
      },
      "source": [
        "# 수학식 : 달러기호\n",
        "$\\bar{x} = {1 \\over n}(x_1 + x_2) $"
      ]
    }
  ]
}